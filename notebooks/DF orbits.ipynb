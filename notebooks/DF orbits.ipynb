{
 "cells": [
  {
   "cell_type": "code",
   "execution_count": null,
   "metadata": {
    "collapsed": true
   },
   "outputs": [],
   "source": [
    "# Third-party\n",
    "import astropy.coordinates as coord\n",
    "import astropy.units as u\n",
    "import matplotlib as mpl\n",
    "import matplotlib.pyplot as pl\n",
    "import numpy as np\n",
    "pl.style.use('apw-notebook')\n",
    "%matplotlib inline\n",
    "from scipy.stats import powerlaw, pareto\n",
    "from scipy.linalg import expm3\n",
    "\n",
    "import gary.coordinates as gc\n",
    "import gary.dynamics as gd\n",
    "import gary.integrate as gi\n",
    "import gary.potential as gp\n",
    "\n",
    "import ophiuchus.potential as op\n",
    "_p = op.load_potential('static_mw')\n",
    "pars = _p.parameters.copy()\n",
    "potential = op.OphiuchusPotential(**pars)"
   ]
  },
  {
   "cell_type": "markdown",
   "metadata": {},
   "source": [
    "Taking parameters from the anisotropic model in Gnedin & Ostriker 1997 (\u00a72.2):\n",
    "$$\n",
    "\\frac{\\sigma_r^2}{\\sigma_t^2} = 1 + \\frac{r^2}{r_a^2}\\\\\n",
    "\\rho \\propto r^{-\\alpha}\\\\\n",
    "\\sigma_r^2 = (v_{\\rm circ}^2 - v_{\\rm rot}^2)\\frac{r^2/(\\alpha - 2) + r_a^2/\\alpha}{r^2 + r_a^2}\\\\\n",
    "f(v_r, v_t) = A\\exp{\\left(-\\frac{v_r^2}{2\\sigma_r^2}-\\frac{v_t^2}{2\\sigma_t^2} \\right)}\n",
    "$$\n",
    "with\n",
    "$$\n",
    "v_{\\rm circ} = 220~{\\rm km}~{\\rm s}^{-1}\\\\\n",
    "v_{\\rm rot} = 60~{\\rm km}~{\\rm s}^{-1}\\\\\n",
    "\\alpha = 3\n",
    "$$\n",
    "\n",
    "The scheme is:\n",
    "1. sample a radius\n",
    "2. sample a random pair of angles (uniform on surface of sphere)\n",
    "3. sample a radial velocity and peculiar tangential velocity\n",
    "4. sample a new random pair of angles as the position angle for the tangential velocity\n",
    "5. add the rotation velocity to the in-plane component of the peculiar tangential velocity"
   ]
  },
  {
   "cell_type": "code",
   "execution_count": null,
   "metadata": {
    "collapsed": true
   },
   "outputs": [],
   "source": [
    "def vcirc(r):\n",
    "    q = np.zeros((3,len(r)))\n",
    "    q[0] = r\n",
    "    vcx = np.sqrt(potential.G * potential.mass_enclosed(q) / r)\n",
    "    \n",
    "    q = np.zeros((3,len(r)))\n",
    "    q[1] = r\n",
    "    vcy = np.sqrt(potential.G * potential.mass_enclosed(q) / r)\n",
    "    \n",
    "    q = np.zeros((3,len(r)))\n",
    "    q[2] = r\n",
    "    vcz = np.sqrt(potential.G * potential.mass_enclosed(q) / r)\n",
    "    \n",
    "    return np.mean([vcx,vcy,vcz], axis=0)"
   ]
  },
  {
   "cell_type": "code",
   "execution_count": null,
   "metadata": {
    "collapsed": true
   },
   "outputs": [],
   "source": [
    "# vcirc = 220. # km/s\n",
    "vrot = 60. # km/s\n",
    "alpha = 3.\n",
    "ra = 7.6 # kpc"
   ]
  },
  {
   "cell_type": "markdown",
   "metadata": {},
   "source": [
    "## Position"
   ]
  },
  {
   "cell_type": "code",
   "execution_count": null,
   "metadata": {
    "collapsed": false
   },
   "outputs": [],
   "source": [
    "# r = powerlaw.rvs(size=10, a=-3.)\n",
    "r = np.logspace(-1, 2.5, 1024)\n",
    "\n",
    "pl.loglog(r, pareto.pdf(r, b=2), marker=None)\n",
    "pl.loglog(r, r**-3, marker=None)"
   ]
  },
  {
   "cell_type": "code",
   "execution_count": null,
   "metadata": {
    "collapsed": false
   },
   "outputs": [],
   "source": [
    "r = pareto.rvs(b=2, size=100000)\n",
    "r = r[r>=10][:1000]\n",
    "pl.hist(r, bins=np.logspace(0,2.5,32))\n",
    "pl.xscale('log')\n",
    "pl.yscale('log')"
   ]
  },
  {
   "cell_type": "code",
   "execution_count": null,
   "metadata": {
    "collapsed": true
   },
   "outputs": [],
   "source": [
    "phi = np.random.uniform(0, 2*np.pi, size=r.size)\n",
    "theta = np.arccos(2*np.random.uniform(size=r.size) - 1)"
   ]
  },
  {
   "cell_type": "code",
   "execution_count": null,
   "metadata": {
    "collapsed": false
   },
   "outputs": [],
   "source": [
    "pos = coord.PhysicsSphericalRepresentation(r=r*u.kpc, phi=phi*u.radian, theta=theta*u.radian)\n",
    "xyz = pos.represent_as(coord.CartesianRepresentation).xyz"
   ]
  },
  {
   "cell_type": "markdown",
   "metadata": {},
   "source": [
    "## Velocity"
   ]
  },
  {
   "cell_type": "code",
   "execution_count": null,
   "metadata": {
    "collapsed": false
   },
   "outputs": [],
   "source": [
    "_vc = (vcirc(r)*u.kpc/u.Myr).to(u.km/u.s).value\n",
    "\u03c3r = np.sqrt((_vc**2 - vrot**2)*(r**2/(alpha-2) + ra**2/alpha) / (r**2 + ra**2))\n",
    "vr = np.random.normal(0, \u03c3r)\n",
    "pl.hist(vr);"
   ]
  },
  {
   "cell_type": "code",
   "execution_count": null,
   "metadata": {
    "collapsed": false
   },
   "outputs": [],
   "source": [
    "\u03c3t = \u03c3r/np.sqrt(1 + r**2/ra**2) \n",
    "vt = np.random.normal(0, \u03c3t)\n",
    "pl.hist(vt)"
   ]
  },
  {
   "cell_type": "code",
   "execution_count": null,
   "metadata": {
    "collapsed": false
   },
   "outputs": [],
   "source": [
    "vtot = np.sqrt(vr**2 + vt**2)\n",
    "pl.hist(vtot, bins=16);"
   ]
  },
  {
   "cell_type": "code",
   "execution_count": null,
   "metadata": {
    "collapsed": false
   },
   "outputs": [],
   "source": [
    "def get_random_velocity(xyz, vr, vt, vrot):\n",
    "    for v in [vr, vt, vrot]:\n",
    "        if not hasattr(v, 'unit'):\n",
    "            raise TypeError(\"Input velocities must be Astropy Quantity objects.\")\n",
    "        \n",
    "    n = xyz.shape[1]\n",
    "    pos = coord.CartesianRepresentation(xyz*u.kpc)\n",
    "    \n",
    "    sph = pos.represent_as(coord.PhysicsSphericalRepresentation)\n",
    "    _phi = sph.phi\n",
    "    _the = sph.theta\n",
    "    \n",
    "    R1 = np.zeros((3,3,n))\n",
    "    R2 = np.zeros((3,3,n))\n",
    "    \n",
    "    for i in range(n):\n",
    "        R1[...,i] = coord.angles.rotation_matrix(-_phi[i], axis='z')\n",
    "        R2[...,i] = coord.angles.rotation_matrix(-_the[i], axis='y')\n",
    "    R = R1*R2\n",
    "        \n",
    "    # generate random unit vectors in the x-y plane to get a random tangential velocity\n",
    "    rand_phi = np.random.uniform(0,2*np.pi,size=n)\n",
    "    rand_xyz = coord.UnitSphericalRepresentation(lon=rand_phi*u.radian, \n",
    "                                                 lat=np.zeros_like(rand_phi)*u.radian)\n",
    "    rand_xyz = rand_xyz.represent_as(coord.CartesianRepresentation).xyz.value\n",
    "        \n",
    "    # tangential velocity\n",
    "    vt_xyz = vt * np.einsum('ijn,jn->in', R, rand_xyz)\n",
    "    \n",
    "    # radial velocity and rotation velocity in xyz\n",
    "    _vr = vr.to(u.km/u.s).value\n",
    "    _vrot = np.zeros_like(_vr) + vrot.to(u.km/u.s).value\n",
    "    _tmp = np.zeros_like(_vr)\n",
    "    vr_rot_xyz = gc.spherical_to_cartesian(pos, np.vstack([_vr,_vrot,_tmp])*u.km/u.s)\n",
    "    \n",
    "    return vt + vr_rot_xyz\n",
    "\n",
    "vxyz = get_random_velocity(xyz, vr=vr*u.km/u.s, vt=vt*u.km/u.s, vrot=vrot*u.km/u.s)"
   ]
  },
  {
   "cell_type": "code",
   "execution_count": null,
   "metadata": {
    "collapsed": false
   },
   "outputs": [],
   "source": [
    "pl.hist(np.linalg.norm(vxyz, axis=0));"
   ]
  },
  {
   "cell_type": "markdown",
   "metadata": {},
   "source": [
    "---"
   ]
  },
  {
   "cell_type": "code",
   "execution_count": null,
   "metadata": {
    "collapsed": true
   },
   "outputs": [],
   "source": [
    "w0 = gd.CartesianPhaseSpacePosition(pos=xyz, vel=vxyz)"
   ]
  },
  {
   "cell_type": "code",
   "execution_count": null,
   "metadata": {
    "collapsed": false
   },
   "outputs": [],
   "source": [
    "fig = w0.plot(subplots_kwargs=dict(figsize=(16,5)))\n",
    "\n",
    "for ax in fig.axes:\n",
    "    ax.set_xlim(-100,100)\n",
    "    ax.set_ylim(-100,100)"
   ]
  },
  {
   "cell_type": "code",
   "execution_count": null,
   "metadata": {
    "collapsed": true
   },
   "outputs": [],
   "source": [
    "orbit = potential.integrate_orbit(w0, dt=2., nsteps=4000)"
   ]
  },
  {
   "cell_type": "code",
   "execution_count": null,
   "metadata": {
    "collapsed": false
   },
   "outputs": [],
   "source": [
    "orbit_sph,_ = orbit.represent_as(coord.PhysicsSphericalRepresentation)"
   ]
  },
  {
   "cell_type": "code",
   "execution_count": null,
   "metadata": {
    "collapsed": false
   },
   "outputs": [],
   "source": [
    "bins = np.logspace(0,2.5,32)\n",
    "pl.hist(orbit_sph.r[0].value, bins=bins, alpha=0.5)\n",
    "pl.hist(orbit_sph.r[-1].value, bins=bins, alpha=0.5)\n",
    "pl.xscale('log')\n",
    "pl.yscale('log')"
   ]
  },
  {
   "cell_type": "code",
   "execution_count": null,
   "metadata": {
    "collapsed": false
   },
   "outputs": [],
   "source": [
    "peri = u.Quantity([orbit[:,i].pericenter() for i in range(orbit.shape[1])])\n",
    "apoc = u.Quantity([orbit[:,i].apocenter() for i in range(orbit.shape[1])])\n",
    "\n",
    "peri = peri[apoc < 250*u.kpc]\n",
    "apoc = apoc[apoc < 250*u.kpc]"
   ]
  },
  {
   "cell_type": "code",
   "execution_count": null,
   "metadata": {
    "collapsed": false
   },
   "outputs": [],
   "source": [
    "bins = np.logspace(-1,3,32)\n",
    "\n",
    "pl.hist(peri[np.isfinite(peri)], bins=bins, alpha=0.5)\n",
    "pl.hist(apoc[np.isfinite(apoc)], bins=bins, alpha=0.5)\n",
    "\n",
    "pl.xscale('log')\n",
    "pl.yscale('log')"
   ]
  },
  {
   "cell_type": "code",
   "execution_count": null,
   "metadata": {
    "collapsed": false
   },
   "outputs": [],
   "source": [
    "ecc = (apoc - peri) / (apoc + peri)\n",
    "pl.hist(ecc[np.isfinite(ecc)], bins=np.linspace(0,1,10))"
   ]
  },
  {
   "cell_type": "markdown",
   "metadata": {},
   "source": [
    "---\n",
    "\n",
    "## More precise integration and frequencies"
   ]
  },
  {
   "cell_type": "code",
   "execution_count": null,
   "metadata": {
    "collapsed": true
   },
   "outputs": [],
   "source": [
    "import superfreq"
   ]
  },
  {
   "cell_type": "code",
   "execution_count": null,
   "metadata": {
    "collapsed": false
   },
   "outputs": [],
   "source": [
    "i = 1\n",
    "dt,nsteps = gd.estimate_dt_nsteps(w0[i], potential, nperiods=256, nsteps_per_period=128)"
   ]
  },
  {
   "cell_type": "code",
   "execution_count": null,
   "metadata": {
    "collapsed": true
   },
   "outputs": [],
   "source": [
    "orbit = potential.integrate_orbit(w0[0], dt=dt, nsteps=nsteps, \n",
    "                                  Integrator=gi.DOPRI853Integrator)"
   ]
  },
  {
   "cell_type": "code",
   "execution_count": null,
   "metadata": {
    "collapsed": false
   },
   "outputs": [],
   "source": [
    "sf = superfreq.SuperFreq(orbit.t.value)"
   ]
  },
  {
   "cell_type": "code",
   "execution_count": null,
   "metadata": {
    "collapsed": false
   },
   "outputs": [],
   "source": [
    "fs = [orbit.pos[i].decompose(potential.units).value + 1j*orbit.vel[i].decompose(potential.units).value \n",
    "      for i in range(3)]\n",
    "freqs,_,_ = sf.find_fundamental_frequencies(fs)\n",
    "superfreq.closest_resonance(np.abs(freqs), max_int=30)"
   ]
  },
  {
   "cell_type": "code",
   "execution_count": null,
   "metadata": {
    "collapsed": true
   },
   "outputs": [],
   "source": []
  }
 ],
 "metadata": {
  "kernelspec": {
   "display_name": "Python 3",
   "language": "python",
   "name": "python3"
  },
  "language_info": {
   "codemirror_mode": {
    "name": "ipython",
    "version": 3
   },
   "file_extension": ".py",
   "mimetype": "text/x-python",
   "name": "python",
   "nbconvert_exporter": "python",
   "pygments_lexer": "ipython3",
   "version": "3.5.1"
  }
 },
 "nbformat": 4,
 "nbformat_minor": 0
}