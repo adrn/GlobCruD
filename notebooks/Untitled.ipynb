{
 "cells": [
  {
   "cell_type": "code",
   "execution_count": null,
   "metadata": {
    "collapsed": true
   },
   "outputs": [],
   "source": [
    "import math\n",
    "\n",
    "# Third-party\n",
    "from astropy.io import ascii\n",
    "import astropy.coordinates as coord\n",
    "import astropy.units as u\n",
    "import matplotlib as mpl\n",
    "import matplotlib.pyplot as pl\n",
    "import numpy as np\n",
    "pl.style.use('apw-notebook')\n",
    "%matplotlib inline\n",
    "from scipy import stats"
   ]
  },
  {
   "cell_type": "markdown",
   "metadata": {},
   "source": [
    "Combining the following quantities:\n",
    "\n",
    "* total mass of the bulge, $M_b$\n",
    "* fraction of the bulge that is from destroyed globular clusters, $f$\n",
    "* mass function of globular clusters, $\\frac{d N}{dm}$\n",
    "\n",
    "I can estimate the initial population of globular clusters (both number and mass distribution). For each cluster, I can get the time of disruption, and therefore the time *since* disruption. Assuming uniform mass-loss, I can estimate the mean densities in position and velocity-space of the resulting streams assuming that the mean fall off is a power law (e.g., Helmi & White 1999). How much substructure is erased if the orbits are strongly chaotic vs. spherical, axisymmetric, triaxial? Can we predict how clumpy the distribution of velocities is in APOGEE and Gaia?"
   ]
  },
  {
   "cell_type": "code",
   "execution_count": null,
   "metadata": {
    "collapsed": true
   },
   "outputs": [],
   "source": [
    "stats.rv_continuous?"
   ]
  },
  {
   "cell_type": "code",
   "execution_count": null,
   "metadata": {
    "collapsed": false
   },
   "outputs": [],
   "source": [
    "Mb = 1E9*u.Msun\n",
    "f = 50E-2 \n",
    "\n",
    "def dN_dlogm(logm, alpha, beta=2, mc=1E6):\n",
    "    # power-law with exponential cutoff\n",
    "    # cutoff mass from ?? (see McLaughlin & Fall 2008)\n",
    "    # beta = 2 from Zhang & Fall 1999\n",
    "    m = 10**logm\n",
    "    return alpha * m**(1-beta) * np.exp(-m/mc)\n",
    "\n",
    "class MassFn(stats.rv_continuous):\n",
    "    def _pdf(self,m):\n",
    "        a = 1007.39\n",
    "        b = 2\n",
    "        mc = 1E6\n",
    "#         if m < 1E3 or m > 1E7:\n",
    "#             return 0.\n",
    "#         return a * m**(-b) * np.exp(-m/mc)\n",
    "        return a / (m*m) * math.exp(-m/mc)\n",
    "    \n",
    "massf = MassFn(a=1E3, b=1E7)"
   ]
  },
  {
   "cell_type": "code",
   "execution_count": null,
   "metadata": {
    "collapsed": false
   },
   "outputs": [],
   "source": [
    "logm = np.linspace(3, 7, 1024)\n",
    "pl.loglog(10**logm, dN_dlogm(logm, alpha=1., beta=2), marker=None)\n",
    "pl.xlabel(r\"cluster mass [$M_\\odot$]\")\n",
    "pl.ylabel(r\"$\\frac{{\\rm d}N}{{\\rm d}\\,\\log{m}}$\")\n",
    "# pl.ylim(0.01,10)"
   ]
  },
  {
   "cell_type": "code",
   "execution_count": null,
   "metadata": {
    "collapsed": false
   },
   "outputs": [],
   "source": [
    "m_sample = massf.rvs(size=80000)"
   ]
  },
  {
   "cell_type": "code",
   "execution_count": null,
   "metadata": {
    "collapsed": false
   },
   "outputs": [],
   "source": [
    "fig,axes = pl.subplots(1,2,figsize=(12,6))\n",
    "\n",
    "bins = np.logspace(3,7,12)\n",
    "\n",
    "axes[0].hist(m_sample, bins=bins)\n",
    "axes[0].set_xscale('log')\n",
    "axes[0].set_yscale('log')\n",
    "\n",
    "axes[1].hist(m_sample, bins=bins, weights=m_sample)\n",
    "axes[1].set_xscale('log')\n",
    "axes[1].set_yscale('log')"
   ]
  },
  {
   "cell_type": "code",
   "execution_count": null,
   "metadata": {
    "collapsed": false
   },
   "outputs": [],
   "source": [
    "Mb*f / (m_sample.sum()*u.Msun)"
   ]
  },
  {
   "cell_type": "code",
   "execution_count": null,
   "metadata": {
    "collapsed": false
   },
   "outputs": [],
   "source": [
    "go97 = ascii.read(\"/Users/adrian/projects/globber/data/gc_catalogs/go97_table1.txt\")\n",
    "go97[:1]"
   ]
  },
  {
   "cell_type": "code",
   "execution_count": null,
   "metadata": {
    "collapsed": false
   },
   "outputs": [],
   "source": [
    "fig,axes = pl.subplots(1,2,figsize=(12,6))\n",
    "\n",
    "axes[0].hist(go97['M'], bins=bins)\n",
    "axes[0].set_xscale('log')\n",
    "axes[0].set_yscale('log')\n",
    "\n",
    "axes[1].hist(go97['M'], bins=bins, weights=go97['M'])\n",
    "axes[1].set_xscale('log')\n",
    "axes[1].set_yscale('log')"
   ]
  },
  {
   "cell_type": "code",
   "execution_count": null,
   "metadata": {
    "collapsed": true
   },
   "outputs": [],
   "source": []
  }
 ],
 "metadata": {
  "kernelspec": {
   "display_name": "Python 3",
   "language": "python",
   "name": "python3"
  },
  "language_info": {
   "codemirror_mode": {
    "name": "ipython",
    "version": 3
   },
   "file_extension": ".py",
   "mimetype": "text/x-python",
   "name": "python",
   "nbconvert_exporter": "python",
   "pygments_lexer": "ipython3",
   "version": "3.5.1"
  }
 },
 "nbformat": 4,
 "nbformat_minor": 0
}